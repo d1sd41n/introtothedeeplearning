{
 "cells": [
  {
   "cell_type": "code",
   "execution_count": 8,
   "metadata": {},
   "outputs": [],
   "source": [
    "import tensorflow as tf\n",
    "import numpy as np\n",
    "import matplotlib.pyplot as plt"
   ]
  },
  {
   "cell_type": "code",
   "execution_count": 9,
   "metadata": {},
   "outputs": [
    {
     "ename": "SyntaxError",
     "evalue": "invalid syntax (<ipython-input-9-92842ec418fe>, line 1)",
     "output_type": "error",
     "traceback": [
      "\u001b[0;36m  File \u001b[0;32m\"<ipython-input-9-92842ec418fe>\"\u001b[0;36m, line \u001b[0;32m1\u001b[0m\n\u001b[0;31m    import ceil from math\u001b[0m\n\u001b[0m                   ^\u001b[0m\n\u001b[0;31mSyntaxError\u001b[0m\u001b[0;31m:\u001b[0m invalid syntax\n"
     ]
    }
   ],
   "source": [
    "import ceil from math"
   ]
  },
  {
   "cell_type": "code",
   "execution_count": 10,
   "metadata": {},
   "outputs": [
    {
     "data": {
      "text/plain": [
       "1"
      ]
     },
     "execution_count": 10,
     "metadata": {},
     "output_type": "execute_result"
    }
   ],
   "source": [
    "n = 316\n",
    "\n",
    "n % 3"
   ]
  },
  {
   "cell_type": "code",
   "execution_count": null,
   "metadata": {},
   "outputs": [],
   "source": []
  },
  {
   "cell_type": "code",
   "execution_count": 24,
   "metadata": {},
   "outputs": [
    {
     "data": {
      "text/plain": [
       "<tf.Tensor 'Mul:0' shape=() dtype=int32>"
      ]
     },
     "execution_count": 24,
     "metadata": {},
     "output_type": "execute_result"
    }
   ],
   "source": [
    "a = tf.constant(2)\n",
    "tf.multiply(a,a)"
   ]
  },
  {
   "cell_type": "code",
   "execution_count": 22,
   "metadata": {},
   "outputs": [
    {
     "data": {
      "text/plain": [
       "(3, 1, 1)"
      ]
     },
     "execution_count": 22,
     "metadata": {},
     "output_type": "execute_result"
    }
   ],
   "source": [
    "a = np.random.randn(3,4,1)\n",
    "b = np.random.randn(3,1, 2)\n",
    "c = np.random.randn(3,1, 1)\n",
    "\n",
    "d = c + a*b\n",
    "c.shape"
   ]
  },
  {
   "cell_type": "code",
   "execution_count": 21,
   "metadata": {},
   "outputs": [
    {
     "data": {
      "image/png": "[encoded data removed]",
      "text/plain": [
       "<Figure size 432x288 with 7 Axes>"
      ]
     },
     "metadata": {},
     "output_type": "display_data"
    }
   ],
   "source": [
    "fig = plt.figure()\n",
    "fig.subplots_adjust(hspace=0.8, wspace=0.6)\n",
    "\n",
    "for i in range(1,8):\n",
    "    ax = fig.add_subplot(2,4,i)\n",
    "    ax.text(0.5, 0.5, str((2,i,3)), fontsize=12, ha='center')"
   ]
  },
  {
   "cell_type": "code",
   "execution_count": 29,
   "metadata": {},
   "outputs": [
    {
     "name": "stderr",
     "output_type": "stream",
     "text": [
      "/home/dan/.local/lib/python3.6/site-packages/matplotlib/axes/_axes.py:6462: UserWarning: The 'normed' kwarg is deprecated, and has been replaced by the 'density' kwarg.\n",
      "  warnings.warn(\"The 'normed' kwarg is deprecated, and has been \"\n"
     ]
    },
    {
     "data": {
      "text/plain": [
       "(array([0.00393008, 0.00393008, 0.00687765, 0.00589513, 0.00196504,\n",
       "        0.01277277, 0.02259798, 0.02161546, 0.04323092, 0.05403865,\n",
       "        0.05698622, 0.05698622, 0.09333949, 0.08842689, 0.11593747,\n",
       "        0.12085008, 0.13755293, 0.14344806, 0.12478016, 0.14443058,\n",
       "        0.13755293, 0.1031647 , 0.09726957, 0.09923462, 0.05403865,\n",
       "        0.05993378, 0.04519596, 0.03438823, 0.0235805 , 0.01768538,\n",
       "        0.01179025, 0.00589513, 0.00687765, 0.00196504, 0.00393008,\n",
       "        0.        , 0.00098252, 0.00098252, 0.        , 0.00098252]),\n",
       " array([-8.95755504, -8.44866004, -7.93976504, -7.43087005, -6.92197505,\n",
       "        -6.41308005, -5.90418505, -5.39529006, -4.88639506, -4.37750006,\n",
       "        -3.86860506, -3.35971007, -2.85081507, -2.34192007, -1.83302507,\n",
       "        -1.32413008, -0.81523508, -0.30634008,  0.20255492,  0.71144991,\n",
       "         1.22034491,  1.72923991,  2.23813491,  2.7470299 ,  3.2559249 ,\n",
       "         3.7648199 ,  4.2737149 ,  4.78260989,  5.29150489,  5.80039989,\n",
       "         6.30929489,  6.81818988,  7.32708488,  7.83597988,  8.34487488,\n",
       "         8.85376987,  9.36266487,  9.87155987, 10.38045487, 10.88934986,\n",
       "        11.39824486]),\n",
       " <a list of 1 Patch objects>)"
      ]
     },
     "execution_count": 29,
     "metadata": {},
     "output_type": "execute_result"
    },
    {
     "data": {
      "image/png": "[encoded data removed]",
      "text/plain": [
       "<Figure size 432x288 with 1 Axes>"
      ]
     },
     "metadata": {},
     "output_type": "display_data"
    }
   ],
   "source": [
    "d = np.random.normal(0.1,3,2000)\n",
    "kwargs = dict(histtype=\"stepfilled\", alpha=0.3, normed = True, bins = 40)\n",
    "plt.hist(d, **kwargs)"
   ]
  },
  {
   "cell_type": "code",
   "execution_count": null,
   "metadata": {},
   "outputs": [],
   "source": []
  }
 ],
 "metadata": {
  "kernelspec": {
   "display_name": "Python 3",
   "language": "python",
   "name": "python3"
  },
  "language_info": {
   "codemirror_mode": {
    "name": "ipython",
    "version": 3
   },
   "file_extension": ".py",
   "mimetype": "text/x-python",
   "name": "python",
   "nbconvert_exporter": "python",
   "pygments_lexer": "ipython3",
   "version": "3.6.5"
  }
 },
 "nbformat": 4,
 "nbformat_minor": 2
}
