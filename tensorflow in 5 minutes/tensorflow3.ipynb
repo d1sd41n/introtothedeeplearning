{
 "cells": [
  {
   "cell_type": "code",
   "execution_count": 1,
   "metadata": {},
   "outputs": [
    {
     "name": "stderr",
     "output_type": "stream",
     "text": [
      "/home/dan/anaconda3/lib/python3.6/site-packages/h5py/__init__.py:36: FutureWarning: Conversion of the second argument of issubdtype from `float` to `np.floating` is deprecated. In future, it will be treated as `np.float64 == np.dtype(float).type`.\n",
      "  from ._conv import register_converters as _register_converters\n"
     ]
    }
   ],
   "source": [
    "import tensorflow as tf\n",
    "#from tensorflow.examples.tutorials.mnist import input_data"
   ]
  },
  {
   "cell_type": "code",
   "execution_count": 2,
   "metadata": {},
   "outputs": [
    {
     "name": "stdout",
     "output_type": "stream",
     "text": [
      "Extracting ./data/train-images-idx3-ubyte.gz\n",
      "Extracting ./data/train-labels-idx1-ubyte.gz\n",
      "Extracting ./data/t10k-images-idx3-ubyte.gz\n",
      "Extracting ./data/t10k-labels-idx1-ubyte.gz\n"
     ]
    }
   ],
   "source": [
    "import input_data \n",
    "\n",
    "mnist = input_data.read_data_sets(\"./data\", one_hot=True)"
   ]
  },
  {
   "cell_type": "code",
   "execution_count": 31,
   "metadata": {},
   "outputs": [],
   "source": [
    "#hyperparameters\n",
    "learning_rate = 0.1\n",
    "training_iteration = 30\n",
    "batch_size = 100\n",
    "display_step = 2\n",
    "total_batch = int(mnist.train.num_examples/batch_size)\n",
    "\n",
    "#tf graph input\n",
    "x = tf.placeholder(\"float\", [None, 784]) #mnist data image of shape 28*28=784\n",
    "y = tf.placeholder(\"float\", [None, 10]) #0-9 digits recognition => 10 classes\n",
    "\n",
    "#creating a model\n",
    "\n",
    "# set model weights\n",
    "W = tf.Variable(tf.zeros([784, 10])) # input=784, first layer = 10 neurons\n",
    "b = tf.Variable(tf.zeros([10]))\n",
    "\n",
    "# construct a linear model\n",
    "model = tf.nn.softmax(tf.matmul(x,W) + b) #softmax\n",
    "\n",
    "#minimize the error using cross entropy\n",
    "# cross entropy\n",
    "#cost_function = -tf.reduce_sum(y*tf.log(model))\n",
    "\n",
    "#squared cost function\n",
    "cost_function = tf.reduce_sum(tf.pow(y - model, 2))/(2*total_batch)\n",
    "\n",
    "# gradient descent\n",
    "optimizer = tf.train.GradientDescentOptimizer(learning_rate).minimize(cost_function)\n",
    "\n",
    "# initializing the variables\n",
    "init = tf.global_variables_initializer()\n",
    "\n",
    "#type(mnist.train.num_examples)\n",
    "#mnist.train.num_examples"
   ]
  },
  {
   "cell_type": "code",
   "execution_count": 32,
   "metadata": {},
   "outputs": [
    {
     "name": "stdout",
     "output_type": "stream",
     "text": [
      "Iteration: 0001 cost= 0.067242160\n",
      "Iteration: 0003 cost= 0.032386542\n",
      "Iteration: 0005 cost= 0.024495551\n",
      "Iteration: 0007 cost= 0.021240194\n",
      "Iteration: 0009 cost= 0.019463390\n",
      "Iteration: 0011 cost= 0.018377342\n",
      "Iteration: 0013 cost= 0.017636877\n",
      "Iteration: 0015 cost= 0.016939091\n",
      "Iteration: 0017 cost= 0.016370565\n",
      "Iteration: 0019 cost= 0.015923244\n",
      "Iteration: 0021 cost= 0.015655420\n",
      "Iteration: 0023 cost= 0.015283043\n",
      "Iteration: 0025 cost= 0.015103189\n",
      "Iteration: 0027 cost= 0.014822708\n",
      "Iteration: 0029 cost= 0.014481309\n",
      "Tuning completed!\n",
      "Accuracy: 0.9088\n"
     ]
    }
   ],
   "source": [
    "# launch the graph\n",
    "with tf.Session() as sess:\n",
    "    sess.run(init)\n",
    "    \n",
    "    # training cycle\n",
    "    for iteration in range(training_iteration):\n",
    "        avg_cost = 0\n",
    "        total_batch = int(mnist.train.num_examples/batch_size)\n",
    "        \n",
    "        #loop over all batches\n",
    "        for i in range(total_batch):\n",
    "            batch_xs, batch_ys = mnist.train.next_batch(batch_size)\n",
    "            #fit training using batch data\n",
    "            sess.run(optimizer, feed_dict={x: batch_xs, y: batch_ys})\n",
    "            #compute the average loss\n",
    "            avg_cost += sess.run(cost_function, feed_dict={x: batch_xs, y: batch_ys})/total_batch\n",
    "        # Display logs per iteration step\n",
    "        if iteration % display_step == 0:\n",
    "            print(\"Iteration:\", '%04d' % (iteration + 1), \"cost=\", \"{:.9f}\".format(avg_cost))\n",
    "    print(\"Tuning completed!\")\n",
    "\n",
    "    # Test the model\n",
    "    predictions = tf.equal(tf.argmax(model, 1), tf.argmax(y, 1))\n",
    "    # Calculate accuracy\n",
    "    accuracy = tf.reduce_mean(tf.cast(predictions, \"float\"))\n",
    "    print(\"Accuracy:\", accuracy.eval({x: mnist.test.images, y: mnist.test.labels}))"
   ]
  },
  {
   "cell_type": "code",
   "execution_count": null,
   "metadata": {},
   "outputs": [],
   "source": []
  },
  {
   "cell_type": "code",
   "execution_count": null,
   "metadata": {},
   "outputs": [],
   "source": []
  }
 ],
 "metadata": {
  "kernelspec": {
   "display_name": "Python 3",
   "language": "python",
   "name": "python3"
  },
  "language_info": {
   "codemirror_mode": {
    "name": "ipython",
    "version": 3
   },
   "file_extension": ".py",
   "mimetype": "text/x-python",
   "name": "python",
   "nbconvert_exporter": "python",
   "pygments_lexer": "ipython3",
   "version": "3.6.5"
  }
 },
 "nbformat": 4,
 "nbformat_minor": 2
}
