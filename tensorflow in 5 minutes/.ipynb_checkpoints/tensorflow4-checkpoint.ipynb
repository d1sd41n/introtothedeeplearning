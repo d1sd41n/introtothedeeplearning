{
 "cells": [
  {
   "cell_type": "code",
   "execution_count": 1,
   "metadata": {},
   "outputs": [
    {
     "name": "stderr",
     "output_type": "stream",
     "text": [
      "/home/dan/anaconda3/lib/python3.6/site-packages/h5py/__init__.py:36: FutureWarning: Conversion of the second argument of issubdtype from `float` to `np.floating` is deprecated. In future, it will be treated as `np.float64 == np.dtype(float).type`.\n",
      "  from ._conv import register_converters as _register_converters\n"
     ]
    }
   ],
   "source": [
    "import tensorflow as tf"
   ]
  },
  {
   "cell_type": "code",
   "execution_count": 2,
   "metadata": {},
   "outputs": [
    {
     "name": "stdout",
     "output_type": "stream",
     "text": [
      "Extracting ./data/train-images-idx3-ubyte.gz\n",
      "Extracting ./data/train-labels-idx1-ubyte.gz\n",
      "Extracting ./data/t10k-images-idx3-ubyte.gz\n",
      "Extracting ./data/t10k-labels-idx1-ubyte.gz\n"
     ]
    }
   ],
   "source": [
    "import input_data \n",
    "\n",
    "mnist = input_data.read_data_sets(\"./data\", one_hot=True)"
   ]
  },
  {
   "cell_type": "code",
   "execution_count": 3,
   "metadata": {},
   "outputs": [],
   "source": [
    "#the neurons-------------\n",
    "n_nodes_hl1 = 500 # capa 1\n",
    "n_nodes_hl2 = 500 # capa 2\n",
    "n_nodes_hl3 = 500 # capa 3\n",
    "\n",
    "n_classes = 10 #capa de salida y numero de clases\n",
    "#----------------------\n",
    "batch_size = 100\n",
    "training_iteration = 18\n",
    "display_step = 2\n",
    "#--"
   ]
  },
  {
   "cell_type": "code",
   "execution_count": 4,
   "metadata": {},
   "outputs": [],
   "source": [
    "x = tf.placeholder(\"float\", [None, 784]) #features data matrix\n",
    "y = tf.placeholder(\"float\") # labels data features"
   ]
  },
  {
   "cell_type": "code",
   "execution_count": 5,
   "metadata": {},
   "outputs": [],
   "source": [
    "#neural network model\n",
    "\n",
    "hidden_1_layer = {\"weights\": tf.Variable(tf.random_normal([784, n_nodes_hl1])),\n",
    "                  \"biases\": tf.Variable(tf.random_normal([n_nodes_hl1]))}\n",
    "\n",
    "hidden_2_layer = {\"weights\": tf.Variable(tf.random_normal([n_nodes_hl1, n_nodes_hl2])),\n",
    "                  \"biases\": tf.Variable(tf.random_normal([n_nodes_hl2]))}\n",
    "\n",
    "hidden_3_layer = {\"weights\": tf.Variable(tf.random_normal([n_nodes_hl2, n_nodes_hl3])),\n",
    "                  \"biases\": tf.Variable(tf.random_normal([n_nodes_hl3]))}\n",
    "\n",
    "output_layer = {\"weights\": tf.Variable(tf.random_normal([n_nodes_hl3, n_classes])),\n",
    "                \"biases\": tf.Variable(tf.random_normal([n_classes]))}\n",
    "\n",
    "# layer 1 operations\n",
    "l1 = tf.add(tf.matmul(x, hidden_1_layer['weights']), hidden_1_layer['biases'])\n",
    "l1 = tf.nn.relu(l1)\n",
    "\n",
    "#layer 2 operations\n",
    "l2 = tf.add(tf.matmul(l1, hidden_2_layer['weights']), hidden_2_layer['biases'])\n",
    "l2 = tf.nn.relu(l2)\n",
    "\n",
    "#layer 3 operations\n",
    "l3 = tf.add(tf.matmul(l2, hidden_3_layer['weights']), hidden_3_layer['biases'])\n",
    "l3 = tf.nn.relu(l3)\n",
    "\n",
    "output = tf.matmul(l3, output_layer['weights']) + output_layer['biases']"
   ]
  },
  {
   "cell_type": "code",
   "execution_count": 6,
   "metadata": {},
   "outputs": [
    {
     "name": "stdout",
     "output_type": "stream",
     "text": [
      "WARNING:tensorflow:From <ipython-input-6-ee86d73e1438>:2: softmax_cross_entropy_with_logits (from tensorflow.python.ops.nn_ops) is deprecated and will be removed in a future version.\n",
      "Instructions for updating:\n",
      "\n",
      "Future major versions of TensorFlow will allow gradients to flow\n",
      "into the labels input on backprop by default.\n",
      "\n",
      "See @{tf.nn.softmax_cross_entropy_with_logits_v2}.\n",
      "\n"
     ]
    }
   ],
   "source": [
    "#cost function\n",
    "cost_function = tf.reduce_mean( tf.nn.softmax_cross_entropy_with_logits(logits=output, labels=y) )\n",
    "\n",
    "# learning rate 0.001\n",
    "# optimizador, se usa adam en vez del descenso del gradiente como tal\n",
    "#optimizer = tf.train.GradientDescentOptimizer(learning_rate).minimize(cost_function)\n",
    "optimizer = tf.train.AdamOptimizer().minimize(cost_function)\n",
    "\n",
    "# initializing the variables\n",
    "init = tf.global_variables_initializer()"
   ]
  },
  {
   "cell_type": "code",
   "execution_count": 7,
   "metadata": {},
   "outputs": [
    {
     "name": "stdout",
     "output_type": "stream",
     "text": [
      "Iteration: 0001 cost= 1586126.887014389\n",
      "Iteration: 0003 cost= 185954.168149710\n",
      "Iteration: 0005 cost= 59995.851592794\n",
      "Iteration: 0007 cost= 20385.891340364\n",
      "Iteration: 0009 cost= 8767.192143722\n",
      "Iteration: 0011 cost= 4558.447295911\n",
      "Iteration: 0013 cost= 3914.828770291\n",
      "Iteration: 0015 cost= 2957.191991542\n",
      "Iteration: 0017 cost= 2054.166467869\n",
      "Tuning completed!\n",
      "Accuracy: 0.9575\n"
     ]
    }
   ],
   "source": [
    "# launch the graph\n",
    "with tf.Session() as sess:\n",
    "    sess.run(init)\n",
    "    \n",
    "    # training cycle\n",
    "    for iteration in range(training_iteration):\n",
    "        avg_cost = 0\n",
    "        total_batch = int(mnist.train.num_examples/batch_size)\n",
    "        \n",
    "        #loop over all batches\n",
    "        for i in range(total_batch):\n",
    "            batch_xs, batch_ys = mnist.train.next_batch(batch_size)\n",
    "            #fit training using batch data\n",
    "            \n",
    "            sess.run(optimizer, feed_dict={x: batch_xs, y: batch_ys})\n",
    "            #compute the average loss\n",
    "            avg_cost += sess.run(cost_function, feed_dict={x: batch_xs, y: batch_ys})#/total_batch\n",
    "            #print(avg_cost)\n",
    "            # Write logs for each iteration\n",
    "            \n",
    "        # Display logs per iteration step\n",
    "        if iteration % display_step == 0:\n",
    "            print(\"Iteration:\", '%04d' % (iteration + 1), \"cost=\", \"{:.9f}\".format(avg_cost))\n",
    "    print(\"Tuning completed!\")\n",
    "    \n",
    "    # Test the model\n",
    "    predictions = tf.equal(tf.argmax(output, 1), tf.argmax(y, 1))\n",
    "    # Calculate accuracy\n",
    "    accuracy = tf.reduce_mean(tf.cast(predictions, \"float\"))\n",
    "    print(\"Accuracy:\", accuracy.eval({x: mnist.test.images, y: mnist.test.labels}))\n",
    "            "
   ]
  },
  {
   "cell_type": "code",
   "execution_count": null,
   "metadata": {},
   "outputs": [],
   "source": []
  },
  {
   "cell_type": "code",
   "execution_count": null,
   "metadata": {},
   "outputs": [],
   "source": []
  }
 ],
 "metadata": {
  "kernelspec": {
   "display_name": "Python 3",
   "language": "python",
   "name": "python3"
  },
  "language_info": {
   "codemirror_mode": {
    "name": "ipython",
    "version": 3
   },
   "file_extension": ".py",
   "mimetype": "text/x-python",
   "name": "python",
   "nbconvert_exporter": "python",
   "pygments_lexer": "ipython3",
   "version": "3.6.5"
  }
 },
 "nbformat": 4,
 "nbformat_minor": 2
}
